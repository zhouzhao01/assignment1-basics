{
 "cells": [
  {
   "cell_type": "code",
   "execution_count": 1,
   "id": "8369401a",
   "metadata": {},
   "outputs": [],
   "source": [
    "import torch"
   ]
  },
  {
   "cell_type": "code",
   "execution_count": 3,
   "id": "02f2c620",
   "metadata": {},
   "outputs": [
    {
     "data": {
      "text/plain": [
       "tensor([1, 2, 3])"
      ]
     },
     "execution_count": 3,
     "metadata": {},
     "output_type": "execute_result"
    }
   ],
   "source": [
    "a = torch.tensor([1,2,3])\n",
    "a"
   ]
  },
  {
   "cell_type": "code",
   "execution_count": 7,
   "id": "9abfb38b",
   "metadata": {},
   "outputs": [
    {
     "data": {
      "text/plain": [
       "tensor([[1, 2, 3],\n",
       "        [4, 5, 6]])"
      ]
     },
     "execution_count": 7,
     "metadata": {},
     "output_type": "execute_result"
    }
   ],
   "source": [
    "b = torch.tensor([[1,2,3],[4,5,6]])\n",
    "b"
   ]
  },
  {
   "cell_type": "code",
   "execution_count": 14,
   "id": "96f8694e",
   "metadata": {},
   "outputs": [],
   "source": [
    "zeros  = torch.zeros([3,4])\n",
    "ones = torch.ones(2,2,3)\n",
    "rand = torch.rand(3,3)\n",
    "randn = torch.randn(3,3)"
   ]
  },
  {
   "cell_type": "code",
   "execution_count": 18,
   "id": "08bae747",
   "metadata": {},
   "outputs": [
    {
     "data": {
      "text/plain": [
       "(torch.Size([2, 3, 4]), torch.Size([2, 3, 4]), 3)"
      ]
     },
     "execution_count": 18,
     "metadata": {},
     "output_type": "execute_result"
    }
   ],
   "source": [
    "x = torch.rand(2,3,4)\n",
    "\n",
    "x.shape, x.size(), x.dim()"
   ]
  },
  {
   "cell_type": "code",
   "execution_count": 21,
   "id": "9c576d3d",
   "metadata": {},
   "outputs": [],
   "source": [
    "y = x.view(6,4)\n",
    "y = x.reshape(6, 4) "
   ]
  },
  {
   "cell_type": "code",
   "execution_count": 23,
   "id": "a170d752",
   "metadata": {},
   "outputs": [
    {
     "data": {
      "text/plain": [
       "tensor([[0.6699, 0.0791, 0.3302, 0.0463],\n",
       "        [0.6947, 0.6118, 0.7816, 0.1623],\n",
       "        [0.2472, 0.7928, 0.3568, 0.6622]])"
      ]
     },
     "execution_count": 23,
     "metadata": {},
     "output_type": "execute_result"
    }
   ],
   "source": [
    "x = torch.rand(3, 4)\n",
    "x"
   ]
  },
  {
   "cell_type": "code",
   "execution_count": 25,
   "id": "b0d5bd01",
   "metadata": {},
   "outputs": [
    {
     "data": {
      "text/plain": [
       "tensor([1.1256, 2.2505, 2.0589])"
      ]
     },
     "execution_count": 25,
     "metadata": {},
     "output_type": "execute_result"
    }
   ],
   "source": [
    "row_sums = x.sum(dim=1)\n",
    "row_sums"
   ]
  },
  {
   "cell_type": "code",
   "execution_count": 27,
   "id": "80f0e696",
   "metadata": {},
   "outputs": [
    {
     "data": {
      "text/plain": [
       "tensor([1.6118, 1.4838, 1.4687, 0.8708])"
      ]
     },
     "execution_count": 27,
     "metadata": {},
     "output_type": "execute_result"
    }
   ],
   "source": [
    "col_sums = x.sum(dim=0) \n",
    "col_sums"
   ]
  },
  {
   "cell_type": "code",
   "execution_count": 28,
   "id": "c027c309",
   "metadata": {},
   "outputs": [
    {
     "data": {
      "text/plain": [
       "tensor([[1.1256],\n",
       "        [2.2505],\n",
       "        [2.0589]])"
      ]
     },
     "execution_count": 28,
     "metadata": {},
     "output_type": "execute_result"
    }
   ],
   "source": [
    "keep_dim = x.sum(dim=1, keepdim=True) \n",
    "keep_dim"
   ]
  },
  {
   "cell_type": "code",
   "execution_count": 29,
   "id": "de87e4ba",
   "metadata": {},
   "outputs": [],
   "source": [
    "x = torch.rand(5, 6)"
   ]
  },
  {
   "cell_type": "code",
   "execution_count": 31,
   "id": "dfc1f110",
   "metadata": {},
   "outputs": [],
   "source": [
    "a = x[0]  # First row"
   ]
  },
  {
   "cell_type": "code",
   "execution_count": 32,
   "id": "23969107",
   "metadata": {},
   "outputs": [],
   "source": [
    "x = torch.rand(5, 6)"
   ]
  },
  {
   "cell_type": "code",
   "execution_count": 1,
   "id": "cb25c98c",
   "metadata": {},
   "outputs": [],
   "source": [
    "vocab_size = 50257\n",
    "context_length = 1024\n",
    "num_layer = 48\n",
    "d_model = 1600\n",
    "num_heads = 25\n",
    "d_ff = 1600"
   ]
  },
  {
   "cell_type": "code",
   "execution_count": 2,
   "id": "697c0fb9",
   "metadata": {},
   "outputs": [],
   "source": [
    "embeding = vocab_size * d_model\n",
    "\n",
    "transformer_blocks_rms = 2 * d_model\n",
    "transformer_blocks_ff = 3 * d_ff * d_model\n",
    "transformer_blocks_MHA = 4 * d_model * d_model\n",
    "transformer_blocks = num_layer * (\n",
    "    transformer_blocks_rms + transformer_blocks_ff + transformer_blocks_MHA\n",
    ")\n",
    "\n",
    "rms_norm = d_model\n",
    "lm_head = d_model * vocab_size"
   ]
  },
  {
   "cell_type": "code",
   "execution_count": 12,
   "id": "4abb82d6",
   "metadata": {},
   "outputs": [
    {
     "data": {
      "text/plain": [
       "1.0211376"
      ]
     },
     "execution_count": 12,
     "metadata": {},
     "output_type": "execute_result"
    }
   ],
   "source": [
    "trainable_paras = sum([embeding, transformer_blocks, rms_norm, lm_head])\n",
    "trainable_paras / 1000 / 1000 / 1000 # in Billion"
   ]
  },
  {
   "cell_type": "code",
   "execution_count": 11,
   "id": "6008b599",
   "metadata": {},
   "outputs": [
    {
     "data": {
      "text/plain": [
       "3.8040339946746826"
      ]
     },
     "execution_count": 11,
     "metadata": {},
     "output_type": "execute_result"
    }
   ],
   "source": [
    "Bytes_per_single_float = 4\n",
    "memory =  trainable_paras * Bytes_per_single_float\n",
    "memory / 1024 / 1024 / 1024 # in GB "
   ]
  },
  {
   "cell_type": "code",
   "execution_count": 13,
   "id": "6606eba3",
   "metadata": {},
   "outputs": [
    {
     "data": {
      "text/plain": [
       "5.699999999999999"
      ]
     },
     "execution_count": 13,
     "metadata": {},
     "output_type": "execute_result"
    }
   ],
   "source": [
    "3.8 * 1.5"
   ]
  },
  {
   "cell_type": "code",
   "execution_count": 15,
   "id": "a9569291",
   "metadata": {},
   "outputs": [
    {
     "data": {
      "image/png": "[encoded data removed]",
      "text/plain": [
       "<Figure size 1000x600 with 1 Axes>"
      ]
     },
     "metadata": {},
     "output_type": "display_data"
    }
   ],
   "source": [
    "import torch\n",
    "from torch import optim\n",
    "import matplotlib.pyplot as plt\n",
    "\n",
    "weights = torch.nn.Parameter(5 * torch.randn((10,10)))\n",
    "lr = 1e1\n",
    "opt = optim.SGD([weights],lr=lr)\n",
    "\n",
    "loss_list = []\n",
    "for t in range(100):\n",
    "    opt.zero_grad()\n",
    "    loss = (weights  ** 2).mean() \n",
    "    loss_list.append(loss.cpu().item())\n",
    "    # print(loss.cpu().item())\n",
    "    loss.backward()\n",
    "    opt.step() \n",
    "\n",
    "# Plot the loss\n",
    "plt.figure(figsize=(10, 6))\n",
    "plt.plot(loss_list)\n",
    "plt.title('Training Loss Over Time')\n",
    "plt.xlabel('Iteration')\n",
    "plt.ylabel('Loss')\n",
    "plt.grid(True)\n",
    "plt.show()"
   ]
  },
  {
   "cell_type": "code",
   "execution_count": 17,
   "id": "74a87c57",
   "metadata": {},
   "outputs": [
    {
     "data": {
      "image/png": "[encoded data removed]",
      "text/plain": [
       "<Figure size 1000x600 with 1 Axes>"
      ]
     },
     "metadata": {},
     "output_type": "display_data"
    }
   ],
   "source": [
    "import torch\n",
    "from torch import optim\n",
    "import matplotlib.pyplot as plt\n",
    "\n",
    "weights = torch.nn.Parameter(5 * torch.randn((10,10)))\n",
    "lr = 1e2\n",
    "opt = optim.SGD([weights],lr=lr)\n",
    "\n",
    "loss_list = []\n",
    "for t in range(100):\n",
    "    opt.zero_grad()\n",
    "    loss = (weights  ** 2).mean() \n",
    "    loss_list.append(loss.cpu().item())\n",
    "    # print(loss.cpu().item())\n",
    "    loss.backward()\n",
    "    opt.step() \n",
    "\n",
    "# Plot the loss\n",
    "plt.figure(figsize=(10, 6))\n",
    "plt.plot(loss_list)\n",
    "plt.title('Training Loss Over Time')\n",
    "plt.xlabel('Iteration')\n",
    "plt.ylabel('Loss')\n",
    "plt.grid(True)\n",
    "plt.show()"
   ]
  },
  {
   "cell_type": "code",
   "execution_count": 20,
   "id": "1c40d288",
   "metadata": {},
   "outputs": [
    {
     "data": {
      "image/png": "[encoded data removed]",
      "text/plain": [
       "<Figure size 1000x600 with 1 Axes>"
      ]
     },
     "metadata": {},
     "output_type": "display_data"
    }
   ],
   "source": [
    "import torch\n",
    "from torch import optim\n",
    "import matplotlib.pyplot as plt\n",
    "\n",
    "weights = torch.nn.Parameter(5 * torch.randn((10,10)))\n",
    "lr = 1e3\n",
    "opt = optim.SGD([weights],lr=lr)\n",
    "\n",
    "loss_list = []\n",
    "for t in range(100):\n",
    "    opt.zero_grad()\n",
    "    loss = (weights  ** 2).mean() \n",
    "    loss_list.append(loss.cpu().item())\n",
    "    # print(loss.cpu().item())\n",
    "    loss.backward()\n",
    "    opt.step() \n",
    "\n",
    "# Plot the loss\n",
    "plt.figure(figsize=(10, 6))\n",
    "plt.plot(loss_list[:8])\n",
    "plt.title('Training Loss Over Time')\n",
    "plt.xlabel('Iteration')\n",
    "plt.ylabel('Loss')\n",
    "plt.grid(True)\n",
    "plt.show()"
   ]
  },
  {
   "cell_type": "code",
   "execution_count": 23,
   "id": "675a196f",
   "metadata": {},
   "outputs": [
    {
     "data": {
      "image/png": "[encoded data removed]",
      "text/plain": [
       "<Figure size 1000x600 with 1 Axes>"
      ]
     },
     "metadata": {},
     "output_type": "display_data"
    }
   ],
   "source": [
    "import torch\n",
    "from torch import optim\n",
    "import matplotlib.pyplot as plt\n",
    "\n",
    "weights = torch.nn.Parameter(5 * torch.randn((10,10)))\n",
    "lr = 1e-1\n",
    "opt = optim.SGD([weights],lr=lr)\n",
    "\n",
    "loss_list = []\n",
    "for t in range(1000):\n",
    "    opt.zero_grad()\n",
    "    loss = (weights  ** 2).mean() \n",
    "    loss_list.append(loss.cpu().item())\n",
    "    # print(loss.cpu().item())\n",
    "    loss.backward()\n",
    "    opt.step() \n",
    "\n",
    "# Plot the loss\n",
    "plt.figure(figsize=(10, 6))\n",
    "plt.plot(loss_list)\n",
    "plt.title('Training Loss Over Time')\n",
    "plt.xlabel('Iteration')\n",
    "plt.ylabel('Loss')\n",
    "plt.grid(True)\n",
    "plt.show()"
   ]
  },
  {
   "cell_type": "code",
   "execution_count": 2,
   "id": "8350c137",
   "metadata": {},
   "outputs": [
    {
     "name": "stdout",
     "output_type": "stream",
     "text": [
      "============================================================\n",
      "UNDERSTANDING PyTorch Optimizer Internals\n",
      "============================================================\n",
      "\n",
      "1. INITIAL STATE AFTER OPTIMIZER CREATION:\n",
      "--------------------------------------------------\n",
      "Number of parameter groups: 1\n",
      "State dictionary keys: []\n",
      "State is empty initially: True\n"
     ]
    }
   ],
   "source": [
    "import torch\n",
    "import torch.nn as nn\n",
    "from torch.optim import SGD, Adam\n",
    "import pprint\n",
    "\n",
    "# Create a simple model to demonstrate\n",
    "model = nn.Sequential(\n",
    "    nn.Linear(3, 5, bias=True),\n",
    "    nn.Linear(5, 2, bias=False)\n",
    ")\n",
    "\n",
    "print(\"=\"*60)\n",
    "print(\"UNDERSTANDING PyTorch Optimizer Internals\")\n",
    "print(\"=\"*60)\n",
    "\n",
    "# Create an optimizer\n",
    "optimizer = Adam(model.parameters(), lr=0.01, betas=(0.9, 0.999), weight_decay=0.01)\n",
    "\n",
    "print(\"\\n1. INITIAL STATE AFTER OPTIMIZER CREATION:\")\n",
    "print(\"-\" * 50)\n",
    "\n",
    "print(f\"Number of parameter groups: {len(optimizer.param_groups)}\")\n",
    "print(f\"State dictionary keys: {list(optimizer.state.keys())}\")\n",
    "print(f\"State is empty initially: {len(optimizer.state) == 0}\")"
   ]
  },
  {
   "cell_type": "code",
   "execution_count": 3,
   "id": "8b41da9c",
   "metadata": {},
   "outputs": [
    {
     "name": "stdout",
     "output_type": "stream",
     "text": [
      "\n",
      "2. EXAMINING param_groups STRUCTURE:\n",
      "--------------------------------------------------\n",
      "param_groups is a list of dictionaries, each containing:\n",
      "\n",
      "Group 0:\n",
      "  - Number of parameters: 3\n",
      "  - Hyperparameters stored:\n",
      "    lr: 0.01\n",
      "    betas: (0.9, 0.999)\n",
      "    eps: 1e-08\n",
      "    weight_decay: 0.01\n",
      "    amsgrad: False\n",
      "    maximize: False\n",
      "    foreach: None\n",
      "    capturable: False\n",
      "    differentiable: False\n",
      "    fused: None\n",
      "  - Parameter shapes in this group:\n",
      "    param_0: shape=torch.Size([5, 3]), requires_grad=True\n",
      "    param_1: shape=torch.Size([5]), requires_grad=True\n",
      "    param_2: shape=torch.Size([2, 5]), requires_grad=True\n"
     ]
    }
   ],
   "source": [
    "print(\"\\n2. EXAMINING param_groups STRUCTURE:\")\n",
    "print(\"-\" * 50)\n",
    "\n",
    "print(\"param_groups is a list of dictionaries, each containing:\")\n",
    "for i, group in enumerate(optimizer.param_groups):\n",
    "    print(f\"\\nGroup {i}:\")\n",
    "    print(f\"  - Number of parameters: {len(group['params'])}\")\n",
    "    print(f\"  - Hyperparameters stored:\")\n",
    "    for key, value in group.items():\n",
    "        if key != 'params':  # Skip the actual parameter tensors for readability\n",
    "            print(f\"    {key}: {value}\")\n",
    "    \n",
    "    print(f\"  - Parameter shapes in this group:\")\n",
    "    for j, param in enumerate(group['params']):\n",
    "        print(f\"    param_{j}: shape={param.shape}, requires_grad={param.requires_grad}\")"
   ]
  },
  {
   "cell_type": "code",
   "execution_count": 4,
   "id": "0cda0163",
   "metadata": {},
   "outputs": [
    {
     "name": "stdout",
     "output_type": "stream",
     "text": [
      "\n",
      "3. AFTER ONE OPTIMIZATION STEP:\n",
      "--------------------------------------------------\n",
      "State dictionary now has 3 entries\n",
      "State keys (these are parameter tensor objects):\n",
      "  Parameter 0: shape=torch.Size([5, 3])\n",
      "    State contains: ['step', 'exp_avg', 'exp_avg_sq']\n",
      "    Step count: 1.0\n",
      "  Parameter 1: shape=torch.Size([5])\n",
      "    State contains: ['step', 'exp_avg', 'exp_avg_sq']\n",
      "    Step count: 1.0\n",
      "  Parameter 2: shape=torch.Size([2, 5])\n",
      "    State contains: ['step', 'exp_avg', 'exp_avg_sq']\n",
      "    Step count: 1.0\n"
     ]
    }
   ],
   "source": [
    "print(\"\\n3. AFTER ONE OPTIMIZATION STEP:\")\n",
    "print(\"-\" * 50)\n",
    "\n",
    "# Create dummy data and perform one optimization step\n",
    "x = torch.randn(10, 3)\n",
    "y = torch.randn(10, 2)\n",
    "loss_fn = nn.MSELoss()\n",
    "\n",
    "# Forward pass\n",
    "output = model(x)\n",
    "loss = loss_fn(output, y)\n",
    "\n",
    "# Backward pass\n",
    "optimizer.zero_grad()\n",
    "loss.backward()\n",
    "optimizer.step()  # This populates the state!\n",
    "\n",
    "print(f\"State dictionary now has {len(optimizer.state)} entries\")\n",
    "print(\"State keys (these are parameter tensor objects):\")\n",
    "for i, (param_tensor, state_info) in enumerate(optimizer.state.items()):\n",
    "    print(f\"  Parameter {i}: shape={param_tensor.shape}\")\n",
    "    print(f\"    State contains: {list(state_info.keys())}\")\n",
    "    print(f\"    Step count: {state_info.get('step', 'N/A')}\")"
   ]
  },
  {
   "cell_type": "code",
   "execution_count": 5,
   "id": "0a1f9b93",
   "metadata": {},
   "outputs": [
    {
     "name": "stdout",
     "output_type": "stream",
     "text": [
      "\n",
      "4. DETAILED STATE INSPECTION:\n",
      "--------------------------------------------------\n",
      "\n",
      "Parameter 0 (shape: torch.Size([5, 3])):\n",
      "  step: 1.0\n",
      "  exp_avg: tensor with shape torch.Size([5, 3]), mean=0.000048\n",
      "  exp_avg_sq: tensor with shape torch.Size([5, 3]), mean=0.000038\n",
      "\n",
      "Parameter 1 (shape: torch.Size([5])):\n",
      "  step: 1.0\n",
      "  exp_avg: tensor with shape torch.Size([5]), mean=-0.002185\n",
      "  exp_avg_sq: tensor with shape torch.Size([5]), mean=0.000037\n",
      "\n",
      "Parameter 2 (shape: torch.Size([2, 5])):\n",
      "  step: 1.0\n",
      "  exp_avg: tensor with shape torch.Size([2, 5]), mean=0.010119\n",
      "  exp_avg_sq: tensor with shape torch.Size([2, 5]), mean=0.000088\n"
     ]
    }
   ],
   "source": [
    "print(\"\\n4. DETAILED STATE INSPECTION:\")\n",
    "print(\"-\" * 50)\n",
    "\n",
    "for i, (param_tensor, state_info) in enumerate(optimizer.state.items()):\n",
    "    print(f\"\\nParameter {i} (shape: {param_tensor.shape}):\")\n",
    "    for key, value in state_info.items():\n",
    "        if key == 'step':\n",
    "            print(f\"  {key}: {value}\")\n",
    "        else:  # For tensors like exp_avg, exp_avg_sq\n",
    "            print(f\"  {key}: tensor with shape {value.shape}, mean={value.mean():.6f}\")"
   ]
  },
  {
   "cell_type": "code",
   "execution_count": 6,
   "id": "4e5ceab8",
   "metadata": {},
   "outputs": [
    {
     "name": "stdout",
     "output_type": "stream",
     "text": [
      "\n",
      "5. MULTIPLE PARAMETER GROUPS EXAMPLE:\n",
      "--------------------------------------------------\n",
      "Number of parameter groups: 2\n",
      "\n",
      "Group 0:\n",
      "  Parameters: 2\n",
      "  Learning rate: 0.01\n",
      "  Momentum: 0.9\n",
      "  Weight decay: 0\n",
      "\n",
      "Group 1:\n",
      "  Parameters: 2\n",
      "  Learning rate: 0.001\n",
      "  Momentum: 0.95\n",
      "  Weight decay: 0.01\n"
     ]
    }
   ],
   "source": [
    "print(\"\\n5. MULTIPLE PARAMETER GROUPS EXAMPLE:\")\n",
    "print(\"-\" * 50)\n",
    "\n",
    "# Create model with different parameter groups\n",
    "model2 = nn.Sequential(\n",
    "    nn.Linear(3, 5),\n",
    "    nn.Linear(5, 2)\n",
    ")\n",
    "\n",
    "# Create optimizer with different learning rates for different layers\n",
    "optimizer2 = SGD([\n",
    "    {'params': model2[0].parameters(), 'lr': 0.01, 'momentum': 0.9},\n",
    "    {'params': model2[1].parameters(), 'lr': 0.001, 'momentum': 0.95, 'weight_decay': 0.01}\n",
    "], lr=0.1)  # Default lr, will be overridden by group-specific lr\n",
    "\n",
    "print(f\"Number of parameter groups: {len(optimizer2.param_groups)}\")\n",
    "\n",
    "for i, group in enumerate(optimizer2.param_groups):\n",
    "    print(f\"\\nGroup {i}:\")\n",
    "    print(f\"  Parameters: {len(group['params'])}\")\n",
    "    print(f\"  Learning rate: {group['lr']}\")\n",
    "    print(f\"  Momentum: {group['momentum']}\")\n",
    "    if 'weight_decay' in group:\n",
    "        print(f\"  Weight decay: {group['weight_decay']}\")"
   ]
  },
  {
   "cell_type": "code",
   "execution_count": 7,
   "id": "c694b4fc",
   "metadata": {},
   "outputs": [
    {
     "name": "stdout",
     "output_type": "stream",
     "text": [
      "\n",
      "6. KEY INSIGHTS:\n",
      "--------------------------------------------------\n",
      "\n",
      "param_groups: List of dictionaries containing:\n",
      "  - 'params': List of parameter tensors to optimize\n",
      "  - Hyperparameters: lr, momentum, weight_decay, etc.\n",
      "  - Allows different hyperparameters for different parameter groups\n",
      "\n",
      "state: Dictionary mapping parameter tensors to their optimizer state:\n",
      "  - Key: The actual parameter tensor object (unique identifier)\n",
      "  - Value: Dictionary with optimizer-specific state information\n",
      "    * For Adam: 'step', 'exp_avg', 'exp_avg_sq', (optionally 'max_exp_avg_sq')\n",
      "    * For SGD with momentum: 'momentum_buffer'\n",
      "    * For RMSprop: 'step', 'square_avg', (optionally 'momentum_buffer', 'grad_avg')\n",
      "\n",
      "The state persists across optimization steps and stores:\n",
      "  - Step counters\n",
      "  - Momentum terms\n",
      "  - Moving averages\n",
      "  - Any other algorithm-specific history needed for the update rule\n",
      "\n"
     ]
    }
   ],
   "source": [
    "\n",
    "print(\"\\n6. KEY INSIGHTS:\")\n",
    "print(\"-\" * 50)\n",
    "print(\"\"\"\n",
    "param_groups: List of dictionaries containing:\n",
    "  - 'params': List of parameter tensors to optimize\n",
    "  - Hyperparameters: lr, momentum, weight_decay, etc.\n",
    "  - Allows different hyperparameters for different parameter groups\n",
    "\n",
    "state: Dictionary mapping parameter tensors to their optimizer state:\n",
    "  - Key: The actual parameter tensor object (unique identifier)\n",
    "  - Value: Dictionary with optimizer-specific state information\n",
    "    * For Adam: 'step', 'exp_avg', 'exp_avg_sq', (optionally 'max_exp_avg_sq')\n",
    "    * For SGD with momentum: 'momentum_buffer'\n",
    "    * For RMSprop: 'step', 'square_avg', (optionally 'momentum_buffer', 'grad_avg')\n",
    "\n",
    "The state persists across optimization steps and stores:\n",
    "  - Step counters\n",
    "  - Momentum terms\n",
    "  - Moving averages\n",
    "  - Any other algorithm-specific history needed for the update rule\n",
    "\"\"\")\n"
   ]
  },
  {
   "cell_type": "code",
   "execution_count": 8,
   "id": "41a0c7e1",
   "metadata": {},
   "outputs": [
    {
     "name": "stdout",
     "output_type": "stream",
     "text": [
      "\n",
      "7. PRACTICAL USAGE PATTERNS:\n",
      "--------------------------------------------------\n",
      "Common ways to create parameter groups:\n",
      "\n",
      "# Different learning rates for different layers:\n",
      "optimizer = torch.optim.Adam([\n",
      "    {'params': model.backbone.parameters(), 'lr': 1e-4},\n",
      "    {'params': model.classifier.parameters(), 'lr': 1e-3}\n",
      "])\n",
      "\n",
      "# Exclude certain parameters from weight decay:\n",
      "optimizer = torch.optim.AdamW([\n",
      "    {'params': [p for p in model.parameters() if p.requires_grad and len(p.shape) > 1], 'weight_decay': 0.01},\n",
      "    {'params': [p for p in model.parameters() if p.requires_grad and len(p.shape) <= 1], 'weight_decay': 0.0}\n",
      "])\n",
      "\n"
     ]
    }
   ],
   "source": [
    "\n",
    "print(\"\\n7. PRACTICAL USAGE PATTERNS:\")\n",
    "print(\"-\" * 50)\n",
    "\n",
    "print(\"Common ways to create parameter groups:\")\n",
    "print(\"\"\"\n",
    "# Different learning rates for different layers:\n",
    "optimizer = torch.optim.Adam([\n",
    "    {'params': model.backbone.parameters(), 'lr': 1e-4},\n",
    "    {'params': model.classifier.parameters(), 'lr': 1e-3}\n",
    "])\n",
    "\n",
    "# Exclude certain parameters from weight decay:\n",
    "optimizer = torch.optim.AdamW([\n",
    "    {'params': [p for p in model.parameters() if p.requires_grad and len(p.shape) > 1], 'weight_decay': 0.01},\n",
    "    {'params': [p for p in model.parameters() if p.requires_grad and len(p.shape) <= 1], 'weight_decay': 0.0}\n",
    "])\n",
    "\"\"\")"
   ]
  }
 ],
 "metadata": {
  "kernelspec": {
   "display_name": "cs336-basics",
   "language": "python",
   "name": "python3"
  },
  "language_info": {
   "codemirror_mode": {
    "name": "ipython",
    "version": 3
   },
   "file_extension": ".py",
   "mimetype": "text/x-python",
   "name": "python",
   "nbconvert_exporter": "python",
   "pygments_lexer": "ipython3",
   "version": "3.11.13"
  }
 },
 "nbformat": 4,
 "nbformat_minor": 5
}
